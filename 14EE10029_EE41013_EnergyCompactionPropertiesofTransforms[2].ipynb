{
 "cells": [
  {
   "cell_type": "code",
   "execution_count": 1,
   "metadata": {},
   "outputs": [
    {
     "name": "stdout",
     "output_type": "stream",
     "text": [
      "[(0.6089784665961648+0.37678569406161033j), (0.6536926346329619+0.2746599470661637j), (0.08420823780823883+0.5919391098448183j), (0.2806755951858946+0.5413458889122306j)]\n",
      "[ 1.62755493+1.78473064j  0.25808429-0.58817046j -0.24118153+0.15271897j\n",
      "  0.79145617+0.15786362j]\n",
      "[0.60897847+0.37678569j 0.65369263+0.27465995j 0.08420824+0.59193911j\n",
      " 0.2806756 +0.54134589j]\n",
      "[(1.6275549342232603+1.784730639884823j), (0.25808428694185925-0.5881704552302754j), (-0.24118152541445273+0.1527189679280343j), (0.7914561706339931+0.1578636236638596j)]\n",
      "4.219582089838259\n"
     ]
    }
   ],
   "source": [
    "from __future__ import division\n",
    "import numpy as np\n",
    "from numpy import linalg as LA\n",
    "import matplotlib.pyplot as plt\n",
    "import cmath\n",
    "import time\n",
    "import scipy.io.wavfile\n",
    "\n",
    "    \n",
    "def DFTloop(x,N):\n",
    "    X = []\n",
    "    for k in range(N):\n",
    "        s = 0\n",
    "        for n in range(N):\n",
    "            s = s + x[n]*cmath.exp(complex(0,-(2*np.pi*k*n)/N))\n",
    "        X.append(s)\n",
    "    return (X)\n",
    "\n",
    "def DFTmat(x,N):\n",
    "    W = []\n",
    "    for k in range(N):\n",
    "        w = []\n",
    "        for n in range(N):\n",
    "            w.append(cmath.exp(complex(0,-(2*np.pi*k*n)/N)))\n",
    "        W.append(w)\n",
    "    W_ = np.array(W)\n",
    "    x_ = np.array(x)\n",
    "    X = np.matmul(W_,x_)\n",
    "    return (X)\n",
    "\n",
    "def IDFTmat(X,N):\n",
    "    W = []\n",
    "    for n in range(N):\n",
    "        w = []\n",
    "        for k in range(N):\n",
    "            w.append(cmath.exp(complex(0,(2*np.pi*k*n)/N)))\n",
    "        W.append(w)\n",
    "    W_ = np.array(W)/float(N)\n",
    "    X_ = np.array(X)\n",
    "    x = np.matmul(W_,X_)\n",
    "    return (x)\n",
    "\n",
    "    \n",
    "N=4\n",
    "x_real = np.random.rand(N)\n",
    "x_img = np.random.rand(N)\n",
    "x = []\n",
    "for i in range(N):\n",
    "    x.append(complex(x_real[i],x_img[i]))\n",
    "print(x)  \n",
    "X=DFTmat(x,N)\n",
    "\n",
    "print(X)\n",
    "\n",
    "ix=IDFTmat(X,N)\n",
    "print(ix)\n",
    "\n",
    "X=DFTloop(x,N)\n",
    "\n",
    "print(X)\n",
    "e=0\n",
    "for i in range(0,N-1,1):\n",
    "    e=e+np.abs(x[i]-X[i])**2\n",
    "print(e)"
   ]
  },
  {
   "cell_type": "code",
   "execution_count": 2,
   "metadata": {},
   "outputs": [
    {
     "name": "stdout",
     "output_type": "stream",
     "text": [
      "[(0.7748467881046853+0.39571982773460035j), (0.8576471693155521+0.3125351168813092j), (0.4247029153791555+0.2539303566099259j), (0.4405490032558147+0.9338321370078301j)]\n",
      "[ 2.49774588+1.89601744j  0.47453147-0.47472388j -0.04734383+0.53958363j\n",
      " -0.27205811-0.2600704j ]\n",
      "[0.77484679+0.39571983j 0.85764717+0.31253512j 0.42470292+0.25393036j\n",
      " 0.440549  +0.93383214j]\n",
      "6.290254476462893\n"
     ]
    }
   ],
   "source": [
    "from __future__ import division\n",
    "import numpy as np\n",
    "from numpy import linalg as LA\n",
    "import matplotlib.pyplot as plt\n",
    "import cmath\n",
    "import time\n",
    "\n",
    "    \n",
    "def DCTloop(x,N):\n",
    "    X = []\n",
    "    for k in range(N):\n",
    "        s = 0\n",
    "        for n in range(N):\n",
    "            s = s + x[n]*np.cos(np.pi*k*(n+0.5)/N)\n",
    "        X.append(s)\n",
    "    return (X)\n",
    "\n",
    "def DCTmat(x,N):\n",
    "    W = []\n",
    "    for k in range(N):\n",
    "        w = []\n",
    "        for n in range(N):\n",
    "            w.append(np.cos(np.pi*k*(n+0.5)/N))\n",
    "        W.append(w)\n",
    "    W_ = np.array(W)\n",
    "    x_ = np.array(x)\n",
    "    X = np.matmul(W_,x_)\n",
    "    return (X)\n",
    "\n",
    "\n",
    "def IDCTmat(X,N):\n",
    "    W = []\n",
    "    w = []\n",
    "    for k in range(N):\n",
    "        w = []\n",
    "        w.append(0.5)\n",
    "        for n in range(1,N,1):\n",
    "            w.append(np.cos(np.pi*n*(k+0.5)/N))\n",
    "        W.append(w)\n",
    "    W_ = float(2)*np.array(W)/float(N)\n",
    "    X_ = np.array(X)\n",
    "    x = np.matmul(W_,X_)\n",
    "    return (x)\n",
    "\n",
    "    \n",
    "N=4\n",
    "x_real = np.random.rand(N)\n",
    "x_img = np.random.rand(N)\n",
    "x = []\n",
    "for i in range(N):\n",
    "    x.append(complex(x_real[i],x_img[i]))\n",
    "print(x)\n",
    "    \n",
    "X=DCTmat(x,N)\n",
    "print(X)\n",
    "\n",
    "ix=IDCTmat(X,N)\n",
    "print(ix)\n",
    "\n",
    "e=0\n",
    "for i in range(0,N-1,1):\n",
    "    e=e+np.abs(x[i]-X[i])**2\n",
    "print(e)"
   ]
  },
  {
   "cell_type": "code",
   "execution_count": 3,
   "metadata": {},
   "outputs": [
    {
     "name": "stdout",
     "output_type": "stream",
     "text": [
      "[(0.7817211393494192+0.24803020738809012j), (0.22339846642770222+0.847411477138782j), (0.7345941720745297+0.7442549918062381j), (0.013241032018748045+0.7996259075270672j), (0.5419080621186867+0.27103301106417454j), (0.5148906489300012+0.6966754757253103j), (0.9235100387003292+0.23000062676013067j), (0.2844950957287461+0.3901782507602243j)]\n",
      "[ 2.00887933+2.11360497j -0.25592452+0.52571761j  0.18192755-0.31709441j\n",
      " -0.10691909+0.24574054j  0.55832267-0.59938127j  0.72135314-0.05537092j\n",
      "  0.02701741-0.42564246j  0.63901494-0.16017762j]\n",
      "[0.78172114+0.24803021j 0.22339847+0.84741148j 0.73459417+0.74425499j\n",
      " 0.01324103+0.79962591j 0.54190806+0.27103301j 0.51489065+0.69667548j\n",
      " 0.92351004+0.23000063j 0.2844951 +0.39017825j]\n",
      "9.672312186176764\n"
     ]
    }
   ],
   "source": [
    "def haarMatrix(N):\n",
    "    # Allow only size n of power 2\n",
    "    N = 2**np.ceil(np.log2(N))\n",
    "    if N > 2:\n",
    "        h = haarMatrix(N / 2)\n",
    "    else:\n",
    "        return np.array([[1, 1], [1, -1]])\n",
    "\n",
    "    # calculate upper haar part\n",
    "    h_n = np.kron(h, [1, 1])\n",
    "    # calculate lower haar part \n",
    "    h_i = np.sqrt(N/2)*np.kron(np.eye(len(h)), [1, -1])    \n",
    "    # combine parts\n",
    "    h = np.vstack((h_n, h_i))\n",
    "    return (h)\n",
    "\n",
    "def Haar(x,N):\n",
    "    W = []\n",
    "    W = haarMatrix(N)/float(2)\n",
    "    x_ = np.array(x)\n",
    "    X = np.matmul(W,x_)\n",
    "    return (X)\n",
    "\n",
    "def IHaar(x,N):\n",
    "    W = []\n",
    "    W = haarMatrix(N)\n",
    "    W = float(2)*np.transpose(W)/float(N)\n",
    "    x_ = np.array(x)\n",
    "    X = np.matmul(W,x_)\n",
    "    return (X)\n",
    "\n",
    "N=8\n",
    "x_real = np.random.rand(N)\n",
    "x_img = np.random.rand(N)\n",
    "x = []\n",
    "for i in range(N):\n",
    "    x.append(complex(x_real[i],x_img[i]))\n",
    "    \n",
    "print(x)\n",
    "    \n",
    "X=Haar(x,N)\n",
    "print(X)\n",
    "\n",
    "ix=IHaar(X,N)\n",
    "print(ix)\n",
    "\n",
    "e=0\n",
    "for i in range(0,N-1,1):\n",
    "    e=e+np.abs(x[i]-X[i])**2\n",
    "print(e)"
   ]
  },
  {
   "cell_type": "code",
   "execution_count": 4,
   "metadata": {},
   "outputs": [
    {
     "data": {
      "text/plain": [
       "Text(0,0.5,'E(L)')"
      ]
     },
     "execution_count": 4,
     "metadata": {},
     "output_type": "execute_result"
    },
    {
     "data": {
      "image/png": "[encoded data removed]",
      "text/plain": [
       "<Figure size 432x288 with 1 Axes>"
      ]
     },
     "metadata": {},
     "output_type": "display_data"
    }
   ],
   "source": [
    "N=132\n",
    "x_real = np.random.rand(N)\n",
    "x_img = np.random.rand(N)\n",
    "x = []\n",
    "for i in range(N):\n",
    "    x.append(complex(x_real[i],x_img[i]))\n",
    "L= np.arange(N-1)\n",
    "eX= np.zeros(N-1)\n",
    "eY= np.zeros(N-1)\n",
    "eZ= np.zeros(N-1)\n",
    "\n",
    "for i in range(1,8,1):\n",
    "    m=int(2**i)\n",
    "    X=Haar(x[0:m],m)\n",
    "    for j in range(0,m-1,1):\n",
    "        eX[m]=eX[m]+np.abs(x[j]-X[j])**2\n",
    "\n",
    "for i in range(1,N-1,1):\n",
    "    Y=DCTmat(x[0:i],i)\n",
    "    Z=DFTmat(x[0:i],i)\n",
    "    for k in range(0,i-1,1):\n",
    "        eY[i]=eY[i]+np.abs(x[k]-Y[k])**2\n",
    "    for l in range(0,i-1,1):\n",
    "        eZ[i]=eZ[i]+np.abs(x[l]-Z[l])**2\n",
    "eX[eX==0]=np.nan\n",
    "\n",
    "fig,ax = plt.subplots()\n",
    "ax.plot(L,eX,'og-')\n",
    "ax.plot(L,eY,'r--')\n",
    "ax.plot(L,eZ,'b--')\n",
    "ax.set_xlabel('L',fontsize = 18)\n",
    "ax.set_ylabel('E(L)',fontsize = 18) "
   ]
  },
  {
   "cell_type": "code",
   "execution_count": 5,
   "metadata": {},
   "outputs": [
    {
     "data": {
      "text/plain": [
       "Text(0,0.5,'E(L)')"
      ]
     },
     "execution_count": 5,
     "metadata": {},
     "output_type": "execute_result"
    },
    {
     "data": {
      "image/png": "[encoded data removed]",
      "text/plain": [
       "<Figure size 432x288 with 1 Axes>"
      ]
     },
     "metadata": {},
     "output_type": "display_data"
    }
   ],
   "source": [
    "N=64\n",
    "x_real = np.random.rand(N)\n",
    "x_img = np.random.rand(N)\n",
    "x = []\n",
    "for i in range(N):\n",
    "    x.append(complex(x_real[i],x_img[i]))\n",
    "XDFT=DFTmat(x,N)\n",
    "#print (XDFT)\n",
    "XDCT=DCTmat(x,N)\n",
    "XHaar=Haar(x,N)\n",
    "XDFT_=DFTmat(x,N)\n",
    "XDCT_=DCTmat(x,N)\n",
    "XHaar_=Haar(x,N)\n",
    "L= np.arange(N)\n",
    "eX= np.zeros(N)\n",
    "eY= np.zeros(N)\n",
    "eZ= np.zeros(N)\n",
    "for l in range(N):\n",
    "    for i in range(int((N+1-l)/2),int((N-1+l)/2),1):\n",
    "        XDFT[i]=0\n",
    "    #print (XDFT)\n",
    "    xdft=IDFTmat(XDFT,N)\n",
    "    for j in range(N):\n",
    "        eX[l]=eX[l]+np.abs(x[j]-xdft[j])**2\n",
    "for l in range(N):\n",
    "    for i in range(N-l,N,1):\n",
    "        XDCT[i]=0\n",
    "    xdct=IDCTmat(XDCT,N)\n",
    "    for j in range(N):\n",
    "        eY[l]=eY[l]+np.abs(x[j]-xdct[j])**2\n",
    "for l in range(N):\n",
    "    for i in range(N-l,N,1):\n",
    "        XHaar[i]=0\n",
    "    xhaar=IHaar(XHaar,N)\n",
    "    for j in range(N):\n",
    "        eZ[l]=eZ[l]+np.abs(x[j]-xhaar[j])**2\n",
    "fig,ax = plt.subplots()\n",
    "ax.plot(L,eX,'g--')\n",
    "ax.plot(L,eY,'r--')\n",
    "ax.plot(L,eZ,'b--')\n",
    "ax.set_xlabel('L',fontsize = 18)\n",
    "ax.set_ylabel('E(L)',fontsize = 18) "
   ]
  },
  {
   "cell_type": "code",
   "execution_count": 19,
   "metadata": {},
   "outputs": [
    {
     "data": {
      "text/plain": [
       "Text(0,0.5,'E(L)')"
      ]
     },
     "execution_count": 19,
     "metadata": {},
     "output_type": "execute_result"
    },
    {
     "data": {
      "image/png": "[encoded data removed]",
      "text/plain": [
       "<Figure size 432x288 with 1 Axes>"
      ]
     },
     "metadata": {},
     "output_type": "display_data"
    }
   ],
   "source": [
    "N=2048\n",
    "[rate,data]=scipy.io.wavfile.read(\"audio1.wav\")\n",
    "signal=data[1000:3048]\n",
    "x_real=signal[:,0]\n",
    "x_img=signal[:,1]\n",
    "#x_real = np.random.rand(N)\n",
    "#x_img = np.random.rand(N)\n",
    "x = []\n",
    "for i in range(N):\n",
    "    x.append(complex(x_real[i],x_img[i]))\n",
    "XDFT=DFTmat(x,N)\n",
    "#print (XDFT)\n",
    "XDCT=DCTmat(x,N)\n",
    "XHaar=Haar(x,N)\n",
    "XDFT_=DFTmat(x,N)\n",
    "XDCT_=DCTmat(x,N)\n",
    "XHaar_=Haar(x,N)\n",
    "L= np.arange(N)\n",
    "eX= np.zeros(N)\n",
    "eY= np.zeros(N)\n",
    "eZ= np.zeros(N)\n",
    "for l in range(0,int(np.log2(N)),1):\n",
    "    l=(2**l)-1\n",
    "    for i in range(int((N+1-l)/2),int((N-1+l)/2),1):\n",
    "        XDFT[i]=0\n",
    "    #print (XDFT)\n",
    "    xdft=IDFTmat(XDFT,N)\n",
    "    for j in range(N):\n",
    "        eX[l]=eX[l]+np.abs(x[j]-xdft[j])**2\n",
    "for l in range(0,int(np.log2(N)),1):\n",
    "    l=(2**l)-1\n",
    "    for i in range(N-l,N,1):\n",
    "        XDCT[i]=0\n",
    "    xdct=IDCTmat(XDCT,N)\n",
    "    for j in range(N):\n",
    "        eY[l]=eY[l]+np.abs(x[j]-xdct[j])**2\n",
    "#for l in range(0,int(np.log2(N)),1):\n",
    "#    l=(2**l)-1\n",
    "#    for i in range(N-l,N,1):\n",
    "#        XHaar[i]=0\n",
    "#    xhaar=IHaar(XHaar,N)\n",
    "#    for j in range(N):\n",
    "#        eZ[l]=eZ[l]+np.abs(x[j]-xhaar[j])**2\n",
    "eX=(1.0/float(N))*eX\n",
    "eY=(1.0/float(N))*eY\n",
    "eX[eX==0]=np.nan\n",
    "eY[eY==0]=np.nan\n",
    "#eZ[eZ==0]=np.nan\n",
    "fig,ax = plt.subplots()\n",
    "ax.plot(L,eX,'go-')\n",
    "ax.plot(L,eY,'ro-')\n",
    "#ax.plot(L,eZ,'bo-')\n",
    "ax.set_xlabel('L',fontsize = 18)\n",
    "ax.set_ylabel('E(L)',fontsize = 18) "
   ]
  },
  {
   "cell_type": "code",
   "execution_count": null,
   "metadata": {},
   "outputs": [],
   "source": []
  }
 ],
 "metadata": {
  "kernelspec": {
   "display_name": "Python 2",
   "language": "python",
   "name": "python2"
  },
  "language_info": {
   "codemirror_mode": {
    "name": "ipython",
    "version": 2
   },
   "file_extension": ".py",
   "mimetype": "text/x-python",
   "name": "python",
   "nbconvert_exporter": "python",
   "pygments_lexer": "ipython2",
   "version": "2.7.15"
  }
 },
 "nbformat": 4,
 "nbformat_minor": 2
}
