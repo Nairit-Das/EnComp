{
 "cells": [
  {
   "cell_type": "code",
   "execution_count": 1,
   "metadata": {},
   "outputs": [
    {
     "name": "stdout",
     "output_type": "stream",
     "text": [
      "[(0.788762267367512+0.9969762972400351j), (0.47221968991440044+0.5005231318298883j), (0.6243773222908886+0.9117029174803463j), (0.5285132716875718+0.302716705596603j)]\n",
      "[ 2.41387255+2.71191905j  0.36219137+0.14156696j  0.41240663+1.10543938j\n",
      " -0.03342148+0.0289798j ]\n",
      "[0.78876227+0.9969763j  0.47221969+0.50052313j 0.62437732+0.91170292j\n",
      " 0.52851327+0.30271671j]\n",
      "[(2.413872551260373+2.711919052146873j), (0.36219137130990864+0.14156696153285997j), (0.41240662805642836+1.10543937729389j), (-0.03342148115666138+0.028979797986517508j)]\n",
      "5.805433241586353\n"
     ]
    }
   ],
   "source": [
    "from __future__ import division\n",
    "import numpy as np\n",
    "from numpy import linalg as LA\n",
    "import matplotlib.pyplot as plt\n",
    "import cmath\n",
    "import time\n",
    "import scipy.io.wavfile\n",
    "\n",
    "    \n",
    "def DFTloop(x,N):\n",
    "    X = []\n",
    "    for k in range(N):\n",
    "        s = 0\n",
    "        for n in range(N):\n",
    "            s = s + x[n]*cmath.exp(complex(0,-(2*np.pi*k*n)/N))\n",
    "        X.append(s)\n",
    "    return (X)\n",
    "\n",
    "def DFTmat(x,N):\n",
    "    W = []\n",
    "    for k in range(N):\n",
    "        w = []\n",
    "        for n in range(N):\n",
    "            w.append(cmath.exp(complex(0,-(2*np.pi*k*n)/N)))\n",
    "        W.append(w)\n",
    "    W_ = np.array(W)\n",
    "    x_ = np.array(x)\n",
    "    X = np.matmul(W_,x_)\n",
    "    return (X)\n",
    "\n",
    "def IDFTmat(X,N):\n",
    "    W = []\n",
    "    for n in range(N):\n",
    "        w = []\n",
    "        for k in range(N):\n",
    "            w.append(cmath.exp(complex(0,(2*np.pi*k*n)/N)))\n",
    "        W.append(w)\n",
    "    W_ = np.array(W)/float(N)\n",
    "    X_ = np.array(X)\n",
    "    x = np.matmul(W_,X_)\n",
    "    return (x)\n",
    "\n",
    "    \n",
    "N=4\n",
    "x_real = np.random.rand(N)\n",
    "x_img = np.random.rand(N)\n",
    "x = []\n",
    "for i in range(N):\n",
    "    x.append(complex(x_real[i],x_img[i]))\n",
    "print(x)  \n",
    "X=DFTmat(x,N)\n",
    "\n",
    "print(X)\n",
    "\n",
    "ix=IDFTmat(X,N)\n",
    "print(ix)\n",
    "\n",
    "X=DFTloop(x,N)\n",
    "\n",
    "print(X)\n",
    "e=0\n",
    "for i in range(0,N-1,1):\n",
    "    e=e+np.abs(x[i]-X[i])**2\n",
    "print(e)"
   ]
  },
  {
   "cell_type": "code",
   "execution_count": 2,
   "metadata": {},
   "outputs": [
    {
     "name": "stdout",
     "output_type": "stream",
     "text": [
      "[(0.8304151928280721+0.3522275313908235j), (0.45810310816920796+0.8898377914214302j), (0.19740614747271967+0.30101518104891645j), (0.677334662977326+0.9749433441459058j)]\n",
      "[ 2.16325911+2.51802385j  0.24119238-0.34998174j  0.60262511+0.09639131j\n",
      " -0.1822712 -0.78230418j]\n",
      "[0.83041519+0.35222753j 0.45810311+0.88983779j 0.19740615+0.30101518j\n",
      " 0.67733466+0.97494334j]\n",
      "8.257422656427357\n"
     ]
    }
   ],
   "source": [
    "from __future__ import division\n",
    "import numpy as np\n",
    "from numpy import linalg as LA\n",
    "import matplotlib.pyplot as plt\n",
    "import cmath\n",
    "import time\n",
    "\n",
    "    \n",
    "def DCTloop(x,N):\n",
    "    X = []\n",
    "    for k in range(N):\n",
    "        s = 0\n",
    "        for n in range(N):\n",
    "            s = s + x[n]*np.cos(np.pi*k*(n+0.5)/N)\n",
    "        X.append(s)\n",
    "    return (X)\n",
    "\n",
    "def DCTmat(x,N):\n",
    "    W = []\n",
    "    for k in range(N):\n",
    "        w = []\n",
    "        for n in range(N):\n",
    "            w.append(np.cos(np.pi*k*(n+0.5)/N))\n",
    "        W.append(w)\n",
    "    W_ = np.array(W)\n",
    "    x_ = np.array(x)\n",
    "    X = np.matmul(W_,x_)\n",
    "    return (X)\n",
    "\n",
    "\n",
    "def IDCTmat(X,N):\n",
    "    W = []\n",
    "    w = []\n",
    "    for k in range(N):\n",
    "        w = []\n",
    "        w.append(0.5)\n",
    "        for n in range(1,N,1):\n",
    "            w.append(np.cos(np.pi*n*(k+0.5)/N))\n",
    "        W.append(w)\n",
    "    W_ = float(2)*np.array(W)/float(N)\n",
    "    X_ = np.array(X)\n",
    "    x = np.matmul(W_,X_)\n",
    "    return (x)\n",
    "\n",
    "    \n",
    "N=4\n",
    "x_real = np.random.rand(N)\n",
    "x_img = np.random.rand(N)\n",
    "x = []\n",
    "for i in range(N):\n",
    "    x.append(complex(x_real[i],x_img[i]))\n",
    "print(x)\n",
    "    \n",
    "X=DCTmat(x,N)\n",
    "print(X)\n",
    "\n",
    "ix=IDCTmat(X,N)\n",
    "print(ix)\n",
    "\n",
    "e=0\n",
    "for i in range(0,N-1,1):\n",
    "    e=e+np.abs(x[i]-X[i])**2\n",
    "print(e)"
   ]
  },
  {
   "cell_type": "code",
   "execution_count": 3,
   "metadata": {},
   "outputs": [
    {
     "name": "stdout",
     "output_type": "stream",
     "text": [
      "[(0.7807725367185242+0.886024920905279j), (0.5739353905874168+0.9918476796971449j), (0.8967639737698205+0.941387764079617j), (0.5283517875512737+0.9678394924492191j), (0.45278425315440474+0.35341701028188877j), (0.6929399455402536+0.06319754746054251j), (0.8704056677316185+0.39296429941804767j), (0.4939950326907888+0.9334047168671549j)]\n",
      "[ 2.64497429+2.76504172j  0.13484939+1.02205814j -0.04978586-0.02217109j\n",
      " -0.15462764-0.64329355j  0.20683715-0.10582276j  0.36841219-0.02645173j\n",
      " -0.24015569+0.29021946j  0.37641064-0.54044042j]\n",
      "[0.78077254+0.88602492j 0.57393539+0.99184768j 0.89676397+0.94138776j\n",
      " 0.52835179+0.96783949j 0.45278425+0.35341701j 0.69293995+0.06319755j\n",
      " 0.87040567+0.3929643j  0.49399503+0.93340472j]\n",
      "13.714923741878248\n"
     ]
    }
   ],
   "source": [
    "def haarMatrix(N):\n",
    "    # Allow only size n of power 2\n",
    "    N = 2**np.ceil(np.log2(N))\n",
    "    if N > 2:\n",
    "        h = haarMatrix(N / 2)\n",
    "    else:\n",
    "        return np.array([[1, 1], [1, -1]])\n",
    "\n",
    "    # calculate upper haar part\n",
    "    h_n = np.kron(h, [1, 1])\n",
    "    # calculate lower haar part \n",
    "    h_i = np.sqrt(N/2)*np.kron(np.eye(len(h)), [1, -1])    \n",
    "    # combine parts\n",
    "    h = np.vstack((h_n, h_i))\n",
    "    return (h)\n",
    "\n",
    "def Haar(x,N):\n",
    "    W = []\n",
    "    W = haarMatrix(N)/float(2)\n",
    "    x_ = np.array(x)\n",
    "    X = np.matmul(W,x_)\n",
    "    return (X)\n",
    "\n",
    "def IHaar(x,N):\n",
    "    W = []\n",
    "    W = haarMatrix(N)\n",
    "    W = float(2)*np.transpose(W)/float(N)\n",
    "    x_ = np.array(x)\n",
    "    X = np.matmul(W,x_)\n",
    "    return (X)\n",
    "\n",
    "N=8\n",
    "x_real = np.random.rand(N)\n",
    "x_img = np.random.rand(N)\n",
    "x = []\n",
    "for i in range(N):\n",
    "    x.append(complex(x_real[i],x_img[i]))\n",
    "    \n",
    "print(x)\n",
    "    \n",
    "X=Haar(x,N)\n",
    "print(X)\n",
    "\n",
    "ix=IHaar(X,N)\n",
    "print(ix)\n",
    "\n",
    "e=0\n",
    "for i in range(0,N-1,1):\n",
    "    e=e+np.abs(x[i]-X[i])**2\n",
    "print(e)"
   ]
  },
  {
   "cell_type": "code",
   "execution_count": 4,
   "metadata": {},
   "outputs": [
    {
     "data": {
      "text/plain": [
       "Text(0,0.5,'E(L)')"
      ]
     },
     "execution_count": 4,
     "metadata": {},
     "output_type": "execute_result"
    },
    {
     "data": {
      "image/png": "[encoded data removed]",
      "text/plain": [
       "<Figure size 432x288 with 1 Axes>"
      ]
     },
     "metadata": {},
     "output_type": "display_data"
    }
   ],
   "source": [
    "N=132\n",
    "x_real = np.random.rand(N)\n",
    "x_img = np.random.rand(N)\n",
    "x = []\n",
    "for i in range(N):\n",
    "    x.append(complex(x_real[i],x_img[i]))\n",
    "L= np.arange(N-1)\n",
    "eX= np.zeros(N-1)\n",
    "eY= np.zeros(N-1)\n",
    "eZ= np.zeros(N-1)\n",
    "\n",
    "for i in range(1,8,1):\n",
    "    m=int(2**i)\n",
    "    X=Haar(x[0:m],m)\n",
    "    for j in range(0,m-1,1):\n",
    "        eX[m]=eX[m]+np.abs(x[j]-X[j])**2\n",
    "\n",
    "for i in range(1,N-1,1):\n",
    "    Y=DCTmat(x[0:i],i)\n",
    "    Z=DFTmat(x[0:i],i)\n",
    "    for k in range(0,i-1,1):\n",
    "        eY[i]=eY[i]+np.abs(x[k]-Y[k])**2\n",
    "    for l in range(0,i-1,1):\n",
    "        eZ[i]=eZ[i]+np.abs(x[l]-Z[l])**2\n",
    "eX[eX==0]=np.nan\n",
    "\n",
    "fig,ax = plt.subplots()\n",
    "ax.plot(L,eX,'og-')\n",
    "ax.plot(L,eY,'r--')\n",
    "ax.plot(L,eZ,'b--')\n",
    "ax.set_xlabel('L',fontsize = 18)\n",
    "ax.set_ylabel('E(L)',fontsize = 18) "
   ]
  },
  {
   "cell_type": "code",
   "execution_count": 5,
   "metadata": {},
   "outputs": [
    {
     "data": {
      "text/plain": [
       "Text(0,0.5,'E(L)')"
      ]
     },
     "execution_count": 5,
     "metadata": {},
     "output_type": "execute_result"
    },
    {
     "data": {
      "image/png": "[encoded data removed]",
      "text/plain": [
       "<Figure size 432x288 with 1 Axes>"
      ]
     },
     "metadata": {},
     "output_type": "display_data"
    }
   ],
   "source": [
    "N=64\n",
    "x_real = np.random.rand(N)\n",
    "x_img = np.random.rand(N)\n",
    "x = []\n",
    "for i in range(N):\n",
    "    x.append(complex(x_real[i],x_img[i]))\n",
    "XDFT=DFTmat(x,N)\n",
    "#print (XDFT)\n",
    "XDCT=DCTmat(x,N)\n",
    "XHaar=Haar(x,N)\n",
    "XDFT_=DFTmat(x,N)\n",
    "XDCT_=DCTmat(x,N)\n",
    "XHaar_=Haar(x,N)\n",
    "L= np.arange(N)\n",
    "eX= np.zeros(N)\n",
    "eY= np.zeros(N)\n",
    "eZ= np.zeros(N)\n",
    "for l in range(N):\n",
    "    for i in range(int((N+1-l)/2),int((N-1+l)/2),1):\n",
    "        XDFT[i]=0\n",
    "    #print (XDFT)\n",
    "    xdft=IDFTmat(XDFT,N)\n",
    "    for j in range(N):\n",
    "        eX[l]=eX[l]+np.abs(x[j]-xdft[j])**2\n",
    "for l in range(N):\n",
    "    for i in range(N-l,N,1):\n",
    "        XDCT[i]=0\n",
    "    xdct=IDCTmat(XDCT,N)\n",
    "    for j in range(N):\n",
    "        eY[l]=eY[l]+np.abs(x[j]-xdct[j])**2\n",
    "for l in range(N):\n",
    "    for i in range(N-l,N,1):\n",
    "        XHaar[i]=0\n",
    "    xhaar=IHaar(XHaar,N)\n",
    "    for j in range(N):\n",
    "        eZ[l]=eZ[l]+np.abs(x[j]-xhaar[j])**2\n",
    "fig,ax = plt.subplots()\n",
    "ax.plot(L,eX,'g--')\n",
    "ax.plot(L,eY,'r--')\n",
    "ax.plot(L,eZ,'b--')\n",
    "ax.set_xlabel('L',fontsize = 18)\n",
    "ax.set_ylabel('E(L)',fontsize = 18) "
   ]
  },
  {
   "cell_type": "code",
   "execution_count": 9,
   "metadata": {},
   "outputs": [
    {
     "data": {
      "text/plain": [
       "Text(0,0.5,'E(L)')"
      ]
     },
     "execution_count": 9,
     "metadata": {},
     "output_type": "execute_result"
    },
    {
     "data": {
      "image/png": "[encoded data removed]",
      "text/plain": [
       "<Figure size 432x288 with 1 Axes>"
      ]
     },
     "metadata": {},
     "output_type": "display_data"
    }
   ],
   "source": [
    "N=2048\n",
    "[rate,data]=scipy.io.wavfile.read(\"audio1.wav\")\n",
    "signal=data[11000:13048]\n",
    "x_real=signal[:,0]\n",
    "x_img=signal[:,1]\n",
    "x = []\n",
    "for i in range(N):\n",
    "    x.append(complex(x_real[i],x_img[i]))\n",
    "XDCT=DCTmat(x,N)\n",
    "XDCT_=DCTmat(x,N)\n",
    "L= np.arange(N)\n",
    "eY= np.zeros(N)\n",
    "for l in range(0,int(np.log2(N)),1):\n",
    "    l=(2**l)-1\n",
    "    for i in range(N-l,N,1):\n",
    "        XDCT[i]=0\n",
    "    xdct=IDCTmat(XDCT,N)\n",
    "    for j in range(N):\n",
    "        eY[l]=eY[l]+np.abs(x[j]-xdct[j])**2\n",
    "eY=(1.0/float(N))*eY\n",
    "eY[eY==0]=np.nan\n",
    "fig,ax = plt.subplots()\n",
    "ax.plot(L,eY,'ro-')\n",
    "ax.set_xlabel('L',fontsize = 18)\n",
    "ax.set_ylabel('E(L)',fontsize = 18) "
   ]
  },
  {
   "cell_type": "code",
   "execution_count": 13,
   "metadata": {},
   "outputs": [
    {
     "data": {
      "text/plain": [
       "Text(0,0.5,'E(M)')"
      ]
     },
     "execution_count": 13,
     "metadata": {},
     "output_type": "execute_result"
    },
    {
     "data": {
      "image/png": "[encoded data removed]",
      "text/plain": [
       "<Figure size 432x288 with 1 Axes>"
      ]
     },
     "metadata": {},
     "output_type": "display_data"
    }
   ],
   "source": [
    "N=128\n",
    "[rate,data]=scipy.io.wavfile.read(\"audio1.wav\")\n",
    "signal=data[11000:11128]\n",
    "x_real=signal[:,0]\n",
    "x_img=signal[:,1]\n",
    "x = []\n",
    "for i in range(N):\n",
    "    x.append(complex(x_real[i],x_img[i]))\n",
    "XDCT=DCTmat(x,N)\n",
    "XDCT_real= []\n",
    "XDCT_img= []\n",
    "M= np.arange(N)\n",
    "eY= np.zeros(N)\n",
    "for l in range(0,int(np.log2(N)),1):\n",
    "    l=(2**l)-1\n",
    "    for m in range(l):\n",
    "        XDCT_real.append(XDCT[l].real)\n",
    "        XDCT_img.append(XDCT[l].imag)\n",
    "    scipy.io.wavfile.write(\"audio2.wav\",rate,np.column_stack((XDCT_real,XDCT_img))) #compressed file\n",
    "    [rate2,data2]=scipy.io.wavfile.read(\"audio2.wav\")\n",
    "    signal2=data2[11000:11128]\n",
    "    x_real2=signal2[:,0]\n",
    "    x_img2=signal2[:,1]\n",
    "    x2 = []\n",
    "    for i in range(N):\n",
    "        x2.append(complex(x_real2[i],x_img2[i]))\n",
    "    for i in range(N-l,N,1):\n",
    "        XDCT[i]=0\n",
    "    xdct=IDCTmat(XDCT,N)\n",
    "    for j in range(N):\n",
    "        eY[l]=eY[l]+np.abs(x[j]-xdct[j])**2\n",
    "    XDCT_real= []\n",
    "    XDCT_img= []\n",
    "eY=(1.0/float(N))*eY\n",
    "eY[eY==0]=np.nan\n",
    "fig,ax = plt.subplots()\n",
    "ax.plot(M,eY,'ro-')\n",
    "ax.set_xlabel('M',fontsize = 18)\n",
    "ax.set_ylabel('E(M)',fontsize = 18) "
   ]
  },
  {
   "cell_type": "code",
   "execution_count": null,
   "metadata": {},
   "outputs": [],
   "source": []
  }
 ],
 "metadata": {
  "kernelspec": {
   "display_name": "Python 2",
   "language": "python",
   "name": "python2"
  },
  "language_info": {
   "codemirror_mode": {
    "name": "ipython",
    "version": 2
   },
   "file_extension": ".py",
   "mimetype": "text/x-python",
   "name": "python",
   "nbconvert_exporter": "python",
   "pygments_lexer": "ipython2",
   "version": "2.7.15"
  }
 },
 "nbformat": 4,
 "nbformat_minor": 2
}
