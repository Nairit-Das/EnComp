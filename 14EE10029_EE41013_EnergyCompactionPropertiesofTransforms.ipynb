{
 "cells": [
  {
   "cell_type": "code",
   "execution_count": 12,
   "metadata": {},
   "outputs": [
    {
     "name": "stdout",
     "output_type": "stream",
     "text": [
      "[(0.2541632919565313+0.7066942517654674j), (0.03919647636096302+0.7769420224932425j), (0.6980999649277078+0.041814077503202096j), (0.5014935535051528+0.15325039051364897j)]\n",
      "[ 1.49295329+1.67870074j  0.17975496+1.12717725j  0.41157323-0.18168408j\n",
      " -1.0676283 +0.2025831j ]\n",
      "[0.25416329+0.70669425j 0.03919648+0.77694202j 0.69809996+0.04181408j\n",
      " 0.50149355+0.15325039j]\n",
      "[(1.492953286750355+1.678700742275561j), (0.17975495900841712+1.1271772514064549j), (0.4115732270181235-0.181684083738222j), (-1.0676283049507695+0.20258309711807532j)]\n",
      "2.7538676710264807\n"
     ]
    }
   ],
   "source": [
    "from __future__ import division\n",
    "import numpy as np\n",
    "from numpy import linalg as LA\n",
    "import matplotlib.pyplot as plt\n",
    "import cmath\n",
    "import time\n",
    "\n",
    "    \n",
    "def DFTloop(x,N):\n",
    "    X = []\n",
    "    for k in range(N):\n",
    "        s = 0\n",
    "        for n in range(N):\n",
    "            s = s + x[n]*cmath.exp(complex(0,-(2*np.pi*k*n)/N))\n",
    "        X.append(s)\n",
    "    return (X)\n",
    "\n",
    "def DFTmat(x,N):\n",
    "    W = []\n",
    "    for k in range(N):\n",
    "        w = []\n",
    "        for n in range(N):\n",
    "            w.append(cmath.exp(complex(0,-(2*np.pi*k*n)/N)))\n",
    "        W.append(w)\n",
    "    W_ = np.array(W)\n",
    "    x_ = np.array(x)\n",
    "    X = np.matmul(W_,x_)\n",
    "    return (X)\n",
    "\n",
    "def IDFTmat(X,N):\n",
    "    W = []\n",
    "    for n in range(N):\n",
    "        w = []\n",
    "        for k in range(N):\n",
    "            w.append(cmath.exp(complex(0,(2*np.pi*k*n)/N)))\n",
    "        W.append(w)\n",
    "    W_ = np.array(W)/float(N)\n",
    "    X_ = np.array(X)\n",
    "    x = np.matmul(W_,X_)\n",
    "    return (x)\n",
    "\n",
    "    \n",
    "N=4\n",
    "x_real = np.random.rand(N)\n",
    "x_img = np.random.rand(N)\n",
    "x = []\n",
    "for i in range(N):\n",
    "    x.append(complex(x_real[i],x_img[i]))\n",
    "print(x)  \n",
    "X=DFTmat(x,N)\n",
    "\n",
    "print(X)\n",
    "\n",
    "ix=IDFTmat(X,N)\n",
    "print(ix)\n",
    "\n",
    "X=DFTloop(x,N)\n",
    "\n",
    "print(X)\n",
    "e=0\n",
    "for i in range(0,N-1,1):\n",
    "    e=e+np.abs(x[i]-X[i])**2\n",
    "print(e)"
   ]
  },
  {
   "cell_type": "code",
   "execution_count": 27,
   "metadata": {},
   "outputs": [
    {
     "name": "stdout",
     "output_type": "stream",
     "text": [
      "[(0.026967256298215725+0.15393281993663865j), (0.7332499150455923+0.630379572623239j), (0.6441077597155631+0.5743897138021915j), (0.8399237779629194+0.5034973777653887j)]\n",
      "[ 2.24424871+1.86219948j -0.71696067-0.30152915j -0.36095442-0.38702718j\n",
      " -0.3934616 -0.18550045j]\n",
      "[0.02696726+0.15393282j 0.73324992+0.63037957j 0.64410776+0.57438971j\n",
      " 0.83992378+0.50349738j]\n",
      "12.740549066313067\n"
     ]
    }
   ],
   "source": [
    "from __future__ import division\n",
    "import numpy as np\n",
    "from numpy import linalg as LA\n",
    "import matplotlib.pyplot as plt\n",
    "import cmath\n",
    "import time\n",
    "\n",
    "    \n",
    "def DCTloop(x,N):\n",
    "    X = []\n",
    "    for k in range(N):\n",
    "        s = 0\n",
    "        for n in range(N):\n",
    "            s = s + x[n]*np.cos(np.pi*k*(n+0.5)/N)\n",
    "        X.append(s)\n",
    "    return (X)\n",
    "\n",
    "def DCTmat(x,N):\n",
    "    W = []\n",
    "    for k in range(N):\n",
    "        w = []\n",
    "        for n in range(N):\n",
    "            w.append(np.cos(np.pi*k*(n+0.5)/N))\n",
    "        W.append(w)\n",
    "    W_ = np.array(W)\n",
    "    x_ = np.array(x)\n",
    "    X = np.matmul(W_,x_)\n",
    "    return (X)\n",
    "\n",
    "\n",
    "def IDCTmat(X,N):\n",
    "    W = []\n",
    "    w = []\n",
    "    for k in range(N):\n",
    "        w = []\n",
    "        w.append(0.5)\n",
    "        for n in range(1,N,1):\n",
    "            w.append(np.cos(np.pi*n*(k+0.5)/N))\n",
    "        W.append(w)\n",
    "    W_ = float(2)*np.array(W)/float(N)\n",
    "    X_ = np.array(X)\n",
    "    x = np.matmul(W_,X_)\n",
    "    return (x)\n",
    "\n",
    "    \n",
    "N=4\n",
    "x_real = np.random.rand(N)\n",
    "x_img = np.random.rand(N)\n",
    "x = []\n",
    "for i in range(N):\n",
    "    x.append(complex(x_real[i],x_img[i]))\n",
    "print(x)\n",
    "    \n",
    "X=DCTmat(x,N)\n",
    "print(X)\n",
    "\n",
    "ix=IDCTmat(X,N)\n",
    "print(ix)\n",
    "\n",
    "e=0\n",
    "for i in range(0,N-1,1):\n",
    "    e=e+np.abs(x[i]-X[i])**2\n",
    "print(e)"
   ]
  },
  {
   "cell_type": "code",
   "execution_count": 48,
   "metadata": {},
   "outputs": [
    {
     "name": "stdout",
     "output_type": "stream",
     "text": [
      "[(0.5934907001555281+0.799826669882966j), (0.8865182992536559+0.7227329190580963j), (0.24581425771010335+0.5980468764396704j), (0.1357571717211088+0.12394857868689735j), (0.2525514342126608+0.722237795740172j), (0.07614568419725865+0.2508028501121391j), (0.12214910274404656+0.9578481831316961j), (0.371818953973171+0.6525936278391428j)]\n",
      "[ 1.3421228 +2.41401875j  0.51945763-0.16946371j  0.77671265+0.56608433j\n",
      " -0.1168642 -0.45071069j -0.2930276 +0.07709375j  0.11005709+0.4740983j\n",
      "  0.17640575+0.47143495j -0.24966985+0.30525456j]\n",
      "[0.5934907 +0.79982667j 0.8865183 +0.72273292j 0.24581426+0.59804688j\n",
      " 0.13575717+0.12394858j 0.25255143+0.7222378j  0.07614568+0.25080285j\n",
      " 0.1221491 +0.95784818j 0.37181895+0.65259363j]\n",
      "5.778159775216452\n"
     ]
    }
   ],
   "source": [
    "def haarMatrix(N):\n",
    "    # Allow only size n of power 2\n",
    "    N = 2**np.ceil(np.log2(N))\n",
    "    if N > 2:\n",
    "        h = haarMatrix(N / 2)\n",
    "    else:\n",
    "        return np.array([[1, 1], [1, -1]])\n",
    "\n",
    "    # calculate upper haar part\n",
    "    h_n = np.kron(h, [1, 1])\n",
    "    # calculate lower haar part \n",
    "    h_i = np.sqrt(N/2)*np.kron(np.eye(len(h)), [1, -1])    \n",
    "    # combine parts\n",
    "    h = np.vstack((h_n, h_i))\n",
    "    return (h)\n",
    "\n",
    "def Haar(x,N):\n",
    "    W = []\n",
    "    W = haarMatrix(N)/float(2)\n",
    "    x_ = np.array(x)\n",
    "    X = np.matmul(W,x_)\n",
    "    return (X)\n",
    "\n",
    "def IHaar(x,N):\n",
    "    W = []\n",
    "    W = haarMatrix(N)\n",
    "    W = float(2)*np.transpose(W)/float(N)\n",
    "    x_ = np.array(x)\n",
    "    X = np.matmul(W,x_)\n",
    "    return (X)\n",
    "\n",
    "N=8\n",
    "x_real = np.random.rand(N)\n",
    "x_img = np.random.rand(N)\n",
    "x = []\n",
    "for i in range(N):\n",
    "    x.append(complex(x_real[i],x_img[i]))\n",
    "    \n",
    "print(x)\n",
    "    \n",
    "X=Haar(x,N)\n",
    "print(X)\n",
    "\n",
    "ix=IHaar(X,N)\n",
    "print(ix)\n",
    "\n",
    "e=0\n",
    "for i in range(0,N-1,1):\n",
    "    e=e+np.abs(x[i]-X[i])**2\n",
    "print(e)"
   ]
  },
  {
   "cell_type": "code",
   "execution_count": 49,
   "metadata": {},
   "outputs": [
    {
     "data": {
      "text/plain": [
       "Text(0,0.5,'E(L)')"
      ]
     },
     "execution_count": 49,
     "metadata": {},
     "output_type": "execute_result"
    },
    {
     "data": {
      "image/png": "[encoded data removed]",
      "text/plain": [
       "<Figure size 432x288 with 1 Axes>"
      ]
     },
     "metadata": {},
     "output_type": "display_data"
    }
   ],
   "source": [
    "N=132\n",
    "x_real = np.random.rand(N)\n",
    "x_img = np.random.rand(N)\n",
    "x = []\n",
    "for i in range(N):\n",
    "    x.append(complex(x_real[i],x_img[i]))\n",
    "L= np.arange(N-1)\n",
    "eX= np.zeros(N-1)\n",
    "eY= np.zeros(N-1)\n",
    "eZ= np.zeros(N-1)\n",
    "\n",
    "for i in range(1,8,1):\n",
    "    m=int(2**i)\n",
    "    X=Haar(x[0:m],m)\n",
    "    for j in range(0,m-1,1):\n",
    "        eX[m]=eX[m]+np.abs(x[j]-X[j])**2\n",
    "\n",
    "for i in range(1,N-1,1):\n",
    "    Y=DCTmat(x[0:i],i)\n",
    "    Z=DFTmat(x[0:i],i)\n",
    "    for k in range(0,i-1,1):\n",
    "        eY[i]=eY[i]+np.abs(x[k]-Y[k])**2\n",
    "    for l in range(0,i-1,1):\n",
    "        eZ[i]=eZ[i]+np.abs(x[l]-Z[l])**2\n",
    "eX[eX==0]=np.nan\n",
    "\n",
    "fig,ax = plt.subplots()\n",
    "ax.plot(L,eX,'og-')\n",
    "ax.plot(L,eY,'r--')\n",
    "ax.plot(L,eZ,'b--')\n",
    "ax.set_xlabel('L',fontsize = 18)\n",
    "ax.set_ylabel('E(L)',fontsize = 18) "
   ]
  },
  {
   "cell_type": "code",
   "execution_count": 52,
   "metadata": {},
   "outputs": [
    {
     "data": {
      "text/plain": [
       "Text(0,0.5,'E(L)')"
      ]
     },
     "execution_count": 52,
     "metadata": {},
     "output_type": "execute_result"
    },
    {
     "data": {
      "image/png": "[encoded data removed]",
      "text/plain": [
       "<Figure size 432x288 with 1 Axes>"
      ]
     },
     "metadata": {},
     "output_type": "display_data"
    }
   ],
   "source": [
    "N=64\n",
    "x_real = np.random.rand(N)\n",
    "x_img = np.random.rand(N)\n",
    "x = []\n",
    "for i in range(N):\n",
    "    x.append(complex(x_real[i],x_img[i]))\n",
    "XDFT=DFTmat(x,N)\n",
    "#print (XDFT)\n",
    "XDCT=DCTmat(x,N)\n",
    "XHaar=Haar(x,N)\n",
    "XDFT_=DFTmat(x,N)\n",
    "XDCT_=DCTmat(x,N)\n",
    "XHaar_=Haar(x,N)\n",
    "L= np.arange(N)\n",
    "eX= np.zeros(N)\n",
    "eY= np.zeros(N)\n",
    "eZ= np.zeros(N)\n",
    "for l in range(N):\n",
    "    for i in range(int((N+1-l)/2),int((N-1+l)/2),1):\n",
    "        XDFT[i]=0\n",
    "    #print (XDFT)\n",
    "    xdft=IDFTmat(XDFT,N)\n",
    "    for j in range(N):\n",
    "        eX[l]=eX[l]+np.abs(x[j]-xdft[j])**2\n",
    "for l in range(N):\n",
    "    for i in range(N-l,N,1):\n",
    "        XDCT[i]=0\n",
    "    xdct=IDCTmat(XDCT,N)\n",
    "    for j in range(N):\n",
    "        eY[l]=eY[l]+np.abs(x[j]-xdct[j])**2\n",
    "for l in range(N):\n",
    "    for i in range(N-l,N,1):\n",
    "        XHaar[i]=0\n",
    "    xhaar=IHaar(XHaar,N)\n",
    "    for j in range(N):\n",
    "        eZ[l]=eZ[l]+np.abs(x[j]-xhaar[j])**2\n",
    "fig,ax = plt.subplots()\n",
    "ax.plot(L,eX,'g--')\n",
    "ax.plot(L,eY,'r--')\n",
    "ax.plot(L,eZ,'b--')\n",
    "ax.set_xlabel('L',fontsize = 18)\n",
    "ax.set_ylabel('E(L)',fontsize = 18) "
   ]
  },
  {
   "cell_type": "code",
   "execution_count": null,
   "metadata": {},
   "outputs": [],
   "source": []
  }
 ],
 "metadata": {
  "kernelspec": {
   "display_name": "Python 2",
   "language": "python",
   "name": "python2"
  },
  "language_info": {
   "codemirror_mode": {
    "name": "ipython",
    "version": 2
   },
   "file_extension": ".py",
   "mimetype": "text/x-python",
   "name": "python",
   "nbconvert_exporter": "python",
   "pygments_lexer": "ipython2",
   "version": "2.7.15"
  }
 },
 "nbformat": 4,
 "nbformat_minor": 2
}
