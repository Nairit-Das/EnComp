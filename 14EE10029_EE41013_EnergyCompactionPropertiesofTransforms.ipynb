{
 "cells": [
  {
   "cell_type": "code",
   "execution_count": 7,
   "metadata": {},
   "outputs": [
    {
     "name": "stdout",
     "output_type": "stream",
     "text": [
      "[ 2.98918052+2.11485554j -0.38248575+0.60061337j  0.34158688+0.49212604j\n",
      "  0.44894204+0.57871957j]\n",
      "[(2.9891805210325715+2.1148555425295283j), (-0.38248575395301676+0.6006133684854598j), (0.34158687728864645+0.49212603539026345j), (0.44894203998230775+0.5787195687154307j)]\n",
      "7.4289322560545195\n"
     ]
    }
   ],
   "source": [
    "from __future__ import division\n",
    "import numpy as np\n",
    "from numpy import linalg as LA\n",
    "import matplotlib.pyplot as plt\n",
    "import cmath\n",
    "import time\n",
    "\n",
    "    \n",
    "def DFTloop(x,N):\n",
    "    X = []\n",
    "    for k in range(N):\n",
    "        s = 0\n",
    "        for n in range(N):\n",
    "            s = s + x[n]*cmath.exp(complex(0,-(2*np.pi*k*n)/N))\n",
    "        X.append(s)\n",
    "    return (X)\n",
    "\n",
    "def DFTmat(x,N):\n",
    "    W = []\n",
    "    for k in range(N):\n",
    "        w = []\n",
    "        for n in range(N):\n",
    "            w.append(cmath.exp(complex(0,-(2*np.pi*k*n)/N)))\n",
    "        W.append(w)\n",
    "    W_ = np.array(W)\n",
    "    x_ = np.array(x)\n",
    "    X = np.matmul(W_,x_)\n",
    "    return (X)\n",
    "\n",
    "    \n",
    "N=4\n",
    "x_real = np.random.rand(N)\n",
    "x_img = np.random.rand(N)\n",
    "x = []\n",
    "for i in range(N):\n",
    "    x.append(complex(x_real[i],x_img[i]))\n",
    "    \n",
    "X=DFTmat(x,N)\n",
    "\n",
    "print(X)\n",
    "\n",
    "X=DFTloop(x,N)\n",
    "\n",
    "print(X)\n",
    "e=0\n",
    "for i in range(0,N-1,1):\n",
    "    e=e+np.abs(x[i]-X[i])**2\n",
    "print(e)"
   ]
  },
  {
   "cell_type": "code",
   "execution_count": 9,
   "metadata": {},
   "outputs": [
    {
     "name": "stdout",
     "output_type": "stream",
     "text": [
      "[ 1.55757512+1.58924881j  0.01500386-0.26427942j  0.30987978+0.25185413j\n",
      " -0.05405675-0.03786731j]\n",
      "[(1.5575751170209609+1.5892488059719403j), (0.015003859636150918-0.2642794199704742j), (0.3098797751874146+0.25185412798448936j), (-0.054056747359170404-0.03786730902612148j)]\n",
      "3.034329750131688\n"
     ]
    }
   ],
   "source": [
    "from __future__ import division\n",
    "import numpy as np\n",
    "from numpy import linalg as LA\n",
    "import matplotlib.pyplot as plt\n",
    "import cmath\n",
    "import time\n",
    "\n",
    "    \n",
    "def DCTloop(x,N):\n",
    "    X = []\n",
    "    for k in range(N):\n",
    "        s = 0\n",
    "        for n in range(N):\n",
    "            s = s + x[n]*np.cos(np.pi*k*(n+0.5)/N)\n",
    "        X.append(s)\n",
    "    return (X)\n",
    "\n",
    "def DCTmat(x,N):\n",
    "    W = []\n",
    "    for k in range(N):\n",
    "        w = []\n",
    "        for n in range(N):\n",
    "            w.append(np.cos(np.pi*k*(n+0.5)/N))\n",
    "        W.append(w)\n",
    "    W_ = np.array(W)\n",
    "    x_ = np.array(x)\n",
    "    X = np.matmul(W_,x_)\n",
    "    return (X)\n",
    "\n",
    "    \n",
    "N=4\n",
    "x_real = np.random.rand(N)\n",
    "x_img = np.random.rand(N)\n",
    "x = []\n",
    "for i in range(N):\n",
    "    x.append(complex(x_real[i],x_img[i]))\n",
    "    \n",
    "X=DCTmat(x,N)\n",
    "\n",
    "print(X)\n",
    "\n",
    "X=DCTloop(x,N)\n",
    "\n",
    "print(X)\n",
    "e=0\n",
    "for i in range(0,N-1,1):\n",
    "    e=e+np.abs(x[i]-X[i])**2\n",
    "print(e)"
   ]
  },
  {
   "cell_type": "code",
   "execution_count": 65,
   "metadata": {},
   "outputs": [
    {
     "name": "stdout",
     "output_type": "stream",
     "text": [
      "[ 3.24574233+3.78304524j -0.57236157+0.97741592j  1.06909983-0.11999742j\n",
      "  0.2150446 -0.35663594j  0.22574515+0.39199681j -0.1017685 -0.36255668j\n",
      " -0.0729249 -0.30874892j  0.35311304+0.48050408j]\n",
      "22.463066540986446\n"
     ]
    }
   ],
   "source": [
    "def haarMatrix(N):\n",
    "    # Allow only size n of power 2\n",
    "    N = 2**np.ceil(np.log2(N))\n",
    "    if N > 2:\n",
    "        h = haarMatrix(N / 2)\n",
    "    else:\n",
    "        return np.array([[1, 1], [1, -1]])\n",
    "\n",
    "    # calculate upper haar part\n",
    "    h_n = np.kron(h, [1, 1])\n",
    "    # calculate lower haar part \n",
    "    h_i = np.kron(np.eye(len(h)), [1, -1])\n",
    "    # combine parts\n",
    "    h = np.vstack((h_n, h_i))\n",
    "    return (h)\n",
    "\n",
    "def Haar(x,N):\n",
    "    W = []\n",
    "    W = haarMatrix(N)\n",
    "    x_ = np.array(x)\n",
    "    X = np.matmul(W,x_)\n",
    "    return (X)\n",
    "\n",
    "N=8\n",
    "x_real = np.random.rand(N)\n",
    "x_img = np.random.rand(N)\n",
    "x = []\n",
    "for i in range(N):\n",
    "    x.append(complex(x_real[i],x_img[i]))\n",
    "    \n",
    "X=Haar(x,N)\n",
    "\n",
    "print(X)\n",
    "e=0\n",
    "for i in range(0,N-1,1):\n",
    "    e=e+np.abs(x[i]-X[i])**2\n",
    "print(e)"
   ]
  },
  {
   "cell_type": "code",
   "execution_count": 75,
   "metadata": {},
   "outputs": [
    {
     "data": {
      "text/plain": [
       "Text(0,0.5,'E(L)')"
      ]
     },
     "execution_count": 75,
     "metadata": {},
     "output_type": "execute_result"
    },
    {
     "data": {
      "image/png": "[encoded data removed]",
      "text/plain": [
       "<Figure size 432x288 with 1 Axes>"
      ]
     },
     "metadata": {},
     "output_type": "display_data"
    }
   ],
   "source": [
    "N=132\n",
    "x_real = np.random.rand(N)\n",
    "x_img = np.random.rand(N)\n",
    "x = []\n",
    "for i in range(N):\n",
    "    x.append(complex(x_real[i],x_img[i]))\n",
    "L= np.arange(N-1)\n",
    "eX= np.zeros(N-1)\n",
    "eY= np.zeros(N-1)\n",
    "eZ= np.zeros(N-1)\n",
    "\n",
    "for i in range(1,8,1):\n",
    "    m=int(2**i)\n",
    "    X=Haar(x[0:m],m)\n",
    "    for j in range(0,m-1,1):\n",
    "        eX[m]=eX[m]+np.abs(x[j]-X[j])**2\n",
    "\n",
    "for i in range(1,N-1,1):\n",
    "    Y=DCTmat(x[0:i],i)\n",
    "    Z=DFTmat(x[0:i],i)\n",
    "    for k in range(0,i-1,1):\n",
    "        eY[i]=eY[i]+np.abs(x[k]-Y[k])**2\n",
    "    for l in range(0,i-1,1):\n",
    "        eZ[i]=eZ[i]+np.abs(x[l]-Z[l])**2\n",
    "eX[eX==0]=np.nan\n",
    "\n",
    "fig,ax = plt.subplots()\n",
    "ax.plot(L,eX,'og-')\n",
    "ax.plot(L,eY,'r--')\n",
    "ax.plot(L,eZ,'b--')\n",
    "ax.set_xlabel('L',fontsize = 18)\n",
    "ax.set_ylabel('E(L)',fontsize = 18) "
   ]
  },
  {
   "cell_type": "code",
   "execution_count": null,
   "metadata": {},
   "outputs": [],
   "source": []
  },
  {
   "cell_type": "code",
   "execution_count": null,
   "metadata": {},
   "outputs": [],
   "source": []
  }
 ],
 "metadata": {
  "kernelspec": {
   "display_name": "Python 2",
   "language": "python",
   "name": "python2"
  },
  "language_info": {
   "codemirror_mode": {
    "name": "ipython",
    "version": 2
   },
   "file_extension": ".py",
   "mimetype": "text/x-python",
   "name": "python",
   "nbconvert_exporter": "python",
   "pygments_lexer": "ipython2",
   "version": "2.7.15"
  }
 },
 "nbformat": 4,
 "nbformat_minor": 2
}
